{
 "cells": [
  {
   "cell_type": "code",
   "execution_count": 1,
   "id": "776015c5",
   "metadata": {
    "execution": {
     "iopub.execute_input": "2024-10-21T05:40:56.585300Z",
     "iopub.status.busy": "2024-10-21T05:40:56.584960Z",
     "iopub.status.idle": "2024-10-21T05:41:07.114903Z",
     "shell.execute_reply": "2024-10-21T05:41:07.113798Z"
    },
    "papermill": {
     "duration": 10.540856,
     "end_time": "2024-10-21T05:41:07.117125",
     "exception": false,
     "start_time": "2024-10-21T05:40:56.576269",
     "status": "completed"
    },
    "tags": []
   },
   "outputs": [
    {
     "name": "stdout",
     "output_type": "stream",
     "text": [
      "[nltk_data] Downloading package stopwords to /usr/share/nltk_data...\n",
      "[nltk_data]   Package stopwords is already up-to-date!\n"
     ]
    }
   ],
   "source": [
    "import pandas as pd\n",
    "import numpy as np\n",
    "\n",
    "from sklearn.model_selection import train_test_split\n",
    "from sklearn.preprocessing import LabelEncoder\n",
    "from sklearn.metrics import cohen_kappa_score\n",
    "\n",
    "import optuna\n",
    "import torch\n",
    "import torch.nn as nn\n",
    "import torch.optim as optim\n",
    "from torch.utils.data import Dataset, DataLoader\n",
    "from torchvision import transforms\n",
    "from torchvision.models import resnet18\n",
    "\n",
    "from PIL import Image\n",
    "\n",
    "import os\n",
    "import glob\n",
    "import re\n",
    "\n",
    "import spacy\n",
    "from nltk.stem.porter import PorterStemmer\n",
    "import nltk\n",
    "nltk.download('stopwords')\n",
    "\n",
    "from tqdm.auto import tqdm\n",
    "tqdm.pandas()"
   ]
  },
  {
   "cell_type": "code",
   "execution_count": 2,
   "id": "0590afb3",
   "metadata": {
    "execution": {
     "iopub.execute_input": "2024-10-21T05:41:07.132236Z",
     "iopub.status.busy": "2024-10-21T05:41:07.131604Z",
     "iopub.status.idle": "2024-10-21T05:41:07.142324Z",
     "shell.execute_reply": "2024-10-21T05:41:07.141474Z"
    },
    "papermill": {
     "duration": 0.020203,
     "end_time": "2024-10-21T05:41:07.144233",
     "exception": false,
     "start_time": "2024-10-21T05:41:07.124030",
     "status": "completed"
    },
    "tags": []
   },
   "outputs": [],
   "source": [
    "contractions = { \n",
    "\"ain't\": \"am not\",\n",
    "\"aren't\": \"are not\",\n",
    "\"can't\": \"cannot\",\n",
    "\"can't've\": \"cannot have\",\n",
    "\"'cause\": \"because\",\n",
    "\"could've\": \"could have\",\n",
    "\"couldn't\": \"could not\",\n",
    "\"couldn't've\": \"could not have\",\n",
    "\"didn't\": \"did not\",\n",
    "\"doesn't\": \"does not\",\n",
    "\"don't\": \"do not\",\n",
    "\"hadn't\": \"had not\",\n",
    "\"hadn't've\": \"had not have\",\n",
    "\"hasn't\": \"has not\",\n",
    "\"haven't\": \"have not\",\n",
    "\"he'd\": \"he would\",\n",
    "\"he'd've\": \"he would have\",\n",
    "\"he'll\": \"he will\",\n",
    "\"he's\": \"he is\",\n",
    "\"how'd\": \"how did\",\n",
    "\"how'll\": \"how will\",\n",
    "\"how's\": \"how is\",\n",
    "\"i'd\": \"i would\",\n",
    "\"i'll\": \"i will\",\n",
    "\"i'm\": \"i am\",\n",
    "\"i've\": \"i have\",\n",
    "\"isn't\": \"is not\",\n",
    "\"it'd\": \"it would\",\n",
    "\"it'll\": \"it will\",\n",
    "\"it's\": \"it is\",\n",
    "\"let's\": \"let us\",\n",
    "\"ma'am\": \"madam\",\n",
    "\"mayn't\": \"may not\",\n",
    "\"might've\": \"might have\",\n",
    "\"mightn't\": \"might not\",\n",
    "\"must've\": \"must have\",\n",
    "\"mustn't\": \"must not\",\n",
    "\"needn't\": \"need not\",\n",
    "\"oughtn't\": \"ought not\",\n",
    "\"shan't\": \"shall not\",\n",
    "\"sha'n't\": \"shall not\",\n",
    "\"she'd\": \"she would\",\n",
    "\"she'll\": \"she will\",\n",
    "\"she's\": \"she is\",\n",
    "\"should've\": \"should have\",\n",
    "\"shouldn't\": \"should not\",\n",
    "\"that'd\": \"that would\",\n",
    "\"that's\": \"that is\",\n",
    "\"there'd\": \"there had\",\n",
    "\"there's\": \"there is\",\n",
    "\"they'd\": \"they would\",\n",
    "\"they'll\": \"they will\",\n",
    "\"they're\": \"they are\",\n",
    "\"they've\": \"they have\",\n",
    "\"wasn't\": \"was not\",\n",
    "\"we'd\": \"we would\",\n",
    "\"we'll\": \"we will\",\n",
    "\"we're\": \"we are\",\n",
    "\"we've\": \"we have\",\n",
    "\"weren't\": \"were not\",\n",
    "\"what'll\": \"what will\",\n",
    "\"what're\": \"what are\",\n",
    "\"what's\": \"what is\",\n",
    "\"what've\": \"what have\",\n",
    "\"where'd\": \"where did\",\n",
    "\"where's\": \"where is\",\n",
    "\"who'll\": \"who will\",\n",
    "\"who's\": \"who is\",\n",
    "\"won't\": \"will not\",\n",
    "\"wouldn't\": \"would not\",\n",
    "\"you'd\": \"you would\",\n",
    "\"you'll\": \"you will\",\n",
    "\"you're\": \"you are\"\n",
    "}"
   ]
  },
  {
   "cell_type": "code",
   "execution_count": 3,
   "id": "e5992ffc",
   "metadata": {
    "execution": {
     "iopub.execute_input": "2024-10-21T05:41:07.158510Z",
     "iopub.status.busy": "2024-10-21T05:41:07.157867Z",
     "iopub.status.idle": "2024-10-21T05:41:07.164334Z",
     "shell.execute_reply": "2024-10-21T05:41:07.163472Z"
    },
    "papermill": {
     "duration": 0.015637,
     "end_time": "2024-10-21T05:41:07.166254",
     "exception": false,
     "start_time": "2024-10-21T05:41:07.150617",
     "status": "completed"
    },
    "tags": []
   },
   "outputs": [],
   "source": [
    "from nltk.corpus import stopwords\n",
    "\n",
    "stop_words = set(stopwords.words('english')).union({'also', 'would', 'much', 'many'})"
   ]
  },
  {
   "cell_type": "code",
   "execution_count": 4,
   "id": "d72e34c1",
   "metadata": {
    "execution": {
     "iopub.execute_input": "2024-10-21T05:41:07.181158Z",
     "iopub.status.busy": "2024-10-21T05:41:07.180879Z",
     "iopub.status.idle": "2024-10-21T05:41:07.186246Z",
     "shell.execute_reply": "2024-10-21T05:41:07.185499Z"
    },
    "papermill": {
     "duration": 0.014378,
     "end_time": "2024-10-21T05:41:07.188103",
     "exception": false,
     "start_time": "2024-10-21T05:41:07.173725",
     "status": "completed"
    },
    "tags": []
   },
   "outputs": [],
   "source": [
    "negations = {\n",
    "    'aren',\n",
    "    \"aren't\",\n",
    "    'couldn',\n",
    "    \"couldn't\",\n",
    "    'didn',\n",
    "    \"didn't\",\n",
    "    'doesn',\n",
    "    \"doesn't\",\n",
    "    'don',\n",
    "    \"don't\",\n",
    "    'hadn',\n",
    "    \"hadn't\",\n",
    "    'hasn',\n",
    "    \"hasn't\",\n",
    "    'haven',\n",
    "    \"haven't\",\n",
    "    'isn',\n",
    "    \"isn't\",\n",
    "    'mightn',\n",
    "    \"mightn't\",\n",
    "    'mustn',\n",
    "    \"mustn't\",\n",
    "    'needn',\n",
    "    \"needn't\",\n",
    "    'no',\n",
    "    'nor',\n",
    "    'not',\n",
    "    'shan',\n",
    "    \"shan't\",\n",
    "    'shouldn',\n",
    "    \"shouldn't\",\n",
    "    'wasn',\n",
    "    \"wasn't\",\n",
    "    'weren',\n",
    "    \"weren't\",\n",
    "    'won',\n",
    "    \"won't\",\n",
    "    'wouldn',\n",
    "    \"wouldn't\"\n",
    "}"
   ]
  },
  {
   "cell_type": "code",
   "execution_count": 5,
   "id": "1ee05d75",
   "metadata": {
    "execution": {
     "iopub.execute_input": "2024-10-21T05:41:07.202123Z",
     "iopub.status.busy": "2024-10-21T05:41:07.201588Z",
     "iopub.status.idle": "2024-10-21T05:41:07.206134Z",
     "shell.execute_reply": "2024-10-21T05:41:07.204581Z"
    },
    "papermill": {
     "duration": 0.014015,
     "end_time": "2024-10-21T05:41:07.208422",
     "exception": false,
     "start_time": "2024-10-21T05:41:07.194407",
     "status": "completed"
    },
    "tags": []
   },
   "outputs": [],
   "source": [
    "stop_words = stop_words.difference(negations)"
   ]
  },
  {
   "cell_type": "code",
   "execution_count": 6,
   "id": "978c500f",
   "metadata": {
    "execution": {
     "iopub.execute_input": "2024-10-21T05:41:07.222158Z",
     "iopub.status.busy": "2024-10-21T05:41:07.221877Z",
     "iopub.status.idle": "2024-10-21T05:41:07.225556Z",
     "shell.execute_reply": "2024-10-21T05:41:07.224827Z"
    },
    "papermill": {
     "duration": 0.012464,
     "end_time": "2024-10-21T05:41:07.227302",
     "exception": false,
     "start_time": "2024-10-21T05:41:07.214838",
     "status": "completed"
    },
    "tags": []
   },
   "outputs": [],
   "source": [
    "stemmer = PorterStemmer()"
   ]
  },
  {
   "cell_type": "code",
   "execution_count": 7,
   "id": "51718cde",
   "metadata": {
    "execution": {
     "iopub.execute_input": "2024-10-21T05:41:07.241109Z",
     "iopub.status.busy": "2024-10-21T05:41:07.240832Z",
     "iopub.status.idle": "2024-10-21T05:41:08.438675Z",
     "shell.execute_reply": "2024-10-21T05:41:08.437744Z"
    },
    "papermill": {
     "duration": 1.207371,
     "end_time": "2024-10-21T05:41:08.441131",
     "exception": false,
     "start_time": "2024-10-21T05:41:07.233760",
     "status": "completed"
    },
    "tags": []
   },
   "outputs": [],
   "source": [
    "nlp = spacy.load(\"en_core_web_sm\", disable = ['parser','ner'])"
   ]
  },
  {
   "cell_type": "code",
   "execution_count": 8,
   "id": "43fcc1a3",
   "metadata": {
    "execution": {
     "iopub.execute_input": "2024-10-21T05:41:08.456237Z",
     "iopub.status.busy": "2024-10-21T05:41:08.455463Z",
     "iopub.status.idle": "2024-10-21T05:41:08.465610Z",
     "shell.execute_reply": "2024-10-21T05:41:08.464804Z"
    },
    "papermill": {
     "duration": 0.019641,
     "end_time": "2024-10-21T05:41:08.467548",
     "exception": false,
     "start_time": "2024-10-21T05:41:08.447907",
     "status": "completed"
    },
    "tags": []
   },
   "outputs": [],
   "source": [
    "# Data normalization function\n",
    "def normalize_text(raw_review):\n",
    "    if not isinstance(raw_review, str):\n",
    "        return \"\"\n",
    "    \n",
    "    text = re.sub(\"<[^>]*>\", \" \", raw_review) \n",
    "    \n",
    "    text = re.sub(\"\\S*@\\S*[\\s]+\", \" \", text) \n",
    "    \n",
    "    text = re.sub(\"https?:\\/\\/.*?[\\s]+\", \" \", text) \n",
    "        \n",
    "    text = text.lower().split()\n",
    "    \n",
    "    text = [contractions.get(word) if word in contractions else word \n",
    "            for word in text]\n",
    "   \n",
    "    text = \" \".join(text).split()    \n",
    "    \n",
    "    text = [word for word in text if not word in stop_words]\n",
    "\n",
    "    text = \" \".join(text)\n",
    "          \n",
    "    text = re.sub(\"[^a-zA-Z' ]\", \"\", text) \n",
    "\n",
    "    doc = nlp(text)\n",
    "    text = \" \".join([token.lemma_ for token in doc if len(token.lemma_) > 1 ])\n",
    "    \n",
    "    text = re.sub(\"[\\s]+\", \" \", text)    \n",
    "    \n",
    "    return(text)"
   ]
  },
  {
   "cell_type": "code",
   "execution_count": 9,
   "id": "000c2952",
   "metadata": {
    "execution": {
     "iopub.execute_input": "2024-10-21T05:41:08.481638Z",
     "iopub.status.busy": "2024-10-21T05:41:08.481328Z",
     "iopub.status.idle": "2024-10-21T05:41:41.216832Z",
     "shell.execute_reply": "2024-10-21T05:41:41.216040Z"
    },
    "papermill": {
     "duration": 32.745139,
     "end_time": "2024-10-21T05:41:41.219228",
     "exception": false,
     "start_time": "2024-10-21T05:41:08.474089",
     "status": "completed"
    },
    "tags": []
   },
   "outputs": [],
   "source": [
    "# Load data\n",
    "df = pd.read_csv('/kaggle/input/deep-learning-for-computer-vision-and-nlp-2024-10/train.csv')\n",
    "df['des_normalized'] = df['Description'].apply(normalize_text)"
   ]
  },
  {
   "cell_type": "code",
   "execution_count": 10,
   "id": "5f2cc8e2",
   "metadata": {
    "execution": {
     "iopub.execute_input": "2024-10-21T05:41:41.234491Z",
     "iopub.status.busy": "2024-10-21T05:41:41.233895Z",
     "iopub.status.idle": "2024-10-21T05:41:41.240103Z",
     "shell.execute_reply": "2024-10-21T05:41:41.239348Z"
    },
    "papermill": {
     "duration": 0.015561,
     "end_time": "2024-10-21T05:41:41.241999",
     "exception": false,
     "start_time": "2024-10-21T05:41:41.226438",
     "status": "completed"
    },
    "tags": []
   },
   "outputs": [],
   "source": [
    "# Encoding labels\n",
    "label_encoder = LabelEncoder()\n",
    "df['AdoptionSpeed'] = label_encoder.fit_transform(df['AdoptionSpeed'])"
   ]
  },
  {
   "cell_type": "code",
   "execution_count": 11,
   "id": "f2ea1e10",
   "metadata": {
    "execution": {
     "iopub.execute_input": "2024-10-21T05:41:41.256946Z",
     "iopub.status.busy": "2024-10-21T05:41:41.256626Z",
     "iopub.status.idle": "2024-10-21T05:41:41.267961Z",
     "shell.execute_reply": "2024-10-21T05:41:41.267270Z"
    },
    "papermill": {
     "duration": 0.020653,
     "end_time": "2024-10-21T05:41:41.269786",
     "exception": false,
     "start_time": "2024-10-21T05:41:41.249133",
     "status": "completed"
    },
    "tags": []
   },
   "outputs": [],
   "source": [
    "# Train-test split\n",
    "train_df, val_df = train_test_split(df, test_size=0.2, random_state=42)"
   ]
  },
  {
   "cell_type": "code",
   "execution_count": 12,
   "id": "0e1be26b",
   "metadata": {
    "execution": {
     "iopub.execute_input": "2024-10-21T05:41:41.285236Z",
     "iopub.status.busy": "2024-10-21T05:41:41.284929Z",
     "iopub.status.idle": "2024-10-21T05:41:41.288889Z",
     "shell.execute_reply": "2024-10-21T05:41:41.288028Z"
    },
    "papermill": {
     "duration": 0.013556,
     "end_time": "2024-10-21T05:41:41.290818",
     "exception": false,
     "start_time": "2024-10-21T05:41:41.277262",
     "status": "completed"
    },
    "tags": []
   },
   "outputs": [],
   "source": [
    "image_dir_train = '/kaggle/input/deep-learning-for-computer-vision-and-nlp-2024-10/images/images/train'\n",
    "image_dir_test = '/kaggle/input/deep-learning-for-computer-vision-and-nlp-2024-10/images/images/test'"
   ]
  },
  {
   "cell_type": "code",
   "execution_count": 13,
   "id": "e9711a37",
   "metadata": {
    "execution": {
     "iopub.execute_input": "2024-10-21T05:41:41.308085Z",
     "iopub.status.busy": "2024-10-21T05:41:41.307019Z",
     "iopub.status.idle": "2024-10-21T05:41:41.318416Z",
     "shell.execute_reply": "2024-10-21T05:41:41.317023Z"
    },
    "papermill": {
     "duration": 0.023091,
     "end_time": "2024-10-21T05:41:41.320543",
     "exception": false,
     "start_time": "2024-10-21T05:41:41.297452",
     "status": "completed"
    },
    "tags": []
   },
   "outputs": [],
   "source": [
    "class PetAdoptionDataset(Dataset):\n",
    "    def __init__(self, dataframe, image_dir, transform=None, is_test=False):\n",
    "        self.dataframe = dataframe\n",
    "        self.image_dir = image_dir\n",
    "        self.transform = transform\n",
    "        self.is_test = is_test\n",
    "        \n",
    "    def __len__(self):\n",
    "        return len(self.dataframe)\n",
    "\n",
    "    def __getitem__(self, idx):\n",
    "        row = self.dataframe.iloc[idx] \n",
    "        pet_id = row['PetID'] \n",
    " \n",
    "        # Search for any image file that starts with the PetID \n",
    "        image_pattern = os.path.join(self.image_dir, f\"{pet_id}-*.jpg\") \n",
    "        matching_images = glob.glob(image_pattern) \n",
    " \n",
    "       \n",
    "        if not matching_images: \n",
    "            matching_images = glob.glob(os.path.join(self.image_dir, f\"0{pet_id}-*.jpg\")) \n",
    " \n",
    "        image_path = matching_images[0] \n",
    "        image = Image.open(image_path).convert('RGB') \n",
    "\n",
    "        if self.transform: \n",
    "            image = self.transform(image) \n",
    "\n",
    "        if not self.is_test:  # If it's not a test set, return label\n",
    "            description = row['des_normalized']\n",
    "            label = row['AdoptionSpeed']\n",
    "            return image, description, label\n",
    "        else:\n",
    "            description = row['des_normalized']\n",
    "            return image, description  "
   ]
  },
  {
   "cell_type": "code",
   "execution_count": 14,
   "id": "db0a7434",
   "metadata": {
    "execution": {
     "iopub.execute_input": "2024-10-21T05:41:41.343588Z",
     "iopub.status.busy": "2024-10-21T05:41:41.342408Z",
     "iopub.status.idle": "2024-10-21T05:41:41.349123Z",
     "shell.execute_reply": "2024-10-21T05:41:41.348190Z"
    },
    "papermill": {
     "duration": 0.020134,
     "end_time": "2024-10-21T05:41:41.351227",
     "exception": false,
     "start_time": "2024-10-21T05:41:41.331093",
     "status": "completed"
    },
    "tags": []
   },
   "outputs": [],
   "source": [
    "# Transformations for images\n",
    "transform = transforms.Compose([\n",
    "    transforms.Resize((224, 224)),\n",
    "    transforms.ToTensor(),\n",
    "    transforms.Normalize(mean=[0.485, 0.456, 0.406], std=[0.229, 0.224, 0.225]),\n",
    "])\n",
    "\n",
    "train_dataset = PetAdoptionDataset(train_df, image_dir=image_dir_train, transform=transform)\n",
    "val_dataset  = PetAdoptionDataset(val_df, image_dir=image_dir_train, transform=transform)"
   ]
  },
  {
   "cell_type": "code",
   "execution_count": 15,
   "id": "0f0cdc0c",
   "metadata": {
    "execution": {
     "iopub.execute_input": "2024-10-21T05:41:41.371739Z",
     "iopub.status.busy": "2024-10-21T05:41:41.371410Z",
     "iopub.status.idle": "2024-10-21T05:41:41.376963Z",
     "shell.execute_reply": "2024-10-21T05:41:41.375599Z"
    },
    "papermill": {
     "duration": 0.017739,
     "end_time": "2024-10-21T05:41:41.378925",
     "exception": false,
     "start_time": "2024-10-21T05:41:41.361186",
     "status": "completed"
    },
    "tags": []
   },
   "outputs": [],
   "source": [
    "train_loader = DataLoader(train_dataset, batch_size=128, shuffle=True)\n",
    "val_loader = DataLoader(val_dataset, batch_size=128, shuffle=False)"
   ]
  },
  {
   "cell_type": "code",
   "execution_count": 16,
   "id": "e1bba02b",
   "metadata": {
    "execution": {
     "iopub.execute_input": "2024-10-21T05:41:41.393581Z",
     "iopub.status.busy": "2024-10-21T05:41:41.393293Z",
     "iopub.status.idle": "2024-10-21T05:41:41.400595Z",
     "shell.execute_reply": "2024-10-21T05:41:41.399763Z"
    },
    "papermill": {
     "duration": 0.016806,
     "end_time": "2024-10-21T05:41:41.402377",
     "exception": false,
     "start_time": "2024-10-21T05:41:41.385571",
     "status": "completed"
    },
    "tags": []
   },
   "outputs": [],
   "source": [
    "# Model Definition\n",
    "class PetAdoptionModel(nn.Module):\n",
    "    def __init__(self, dropout_rate, use_batchnorm):\n",
    "        super(PetAdoptionModel, self).__init__()\n",
    "        self.resnet = resnet18(pretrained=True)\n",
    "        self.resnet.fc = nn.Linear(self.resnet.fc.in_features, 128)  # Modify the final layer\n",
    "        self.fc1 = nn.Linear(128, 64)\n",
    "        self.fc2 = nn.Linear(64, 5)  # Assuming AdoptionSpeed has 5 classes\n",
    "        self.dropout = nn.Dropout(dropout_rate)\n",
    "        self.use_batchnorm = use_batchnorm\n",
    "        if use_batchnorm:\n",
    "            self.bn1 = nn.BatchNorm1d(64)\n",
    "\n",
    "    def forward(self, images):\n",
    "        x = self.resnet(images)\n",
    "        x = torch.relu(self.fc1(x))\n",
    "        if self.use_batchnorm:\n",
    "            x = self.bn1(x)\n",
    "        x = self.dropout(x)\n",
    "        return self.fc2(x)"
   ]
  },
  {
   "cell_type": "code",
   "execution_count": 17,
   "id": "238c88bd",
   "metadata": {
    "execution": {
     "iopub.execute_input": "2024-10-21T05:41:41.416781Z",
     "iopub.status.busy": "2024-10-21T05:41:41.416467Z",
     "iopub.status.idle": "2024-10-21T05:41:42.155830Z",
     "shell.execute_reply": "2024-10-21T05:41:42.154979Z"
    },
    "papermill": {
     "duration": 0.749237,
     "end_time": "2024-10-21T05:41:42.158266",
     "exception": false,
     "start_time": "2024-10-21T05:41:41.409029",
     "status": "completed"
    },
    "tags": []
   },
   "outputs": [
    {
     "name": "stderr",
     "output_type": "stream",
     "text": [
      "/opt/conda/lib/python3.10/site-packages/torchvision/models/_utils.py:208: UserWarning: The parameter 'pretrained' is deprecated since 0.13 and may be removed in the future, please use 'weights' instead.\n",
      "  warnings.warn(\n",
      "/opt/conda/lib/python3.10/site-packages/torchvision/models/_utils.py:223: UserWarning: Arguments other than a weight enum or `None` for 'weights' are deprecated since 0.13 and may be removed in the future. The current behavior is equivalent to passing `weights=ResNet18_Weights.IMAGENET1K_V1`. You can also use `weights=ResNet18_Weights.DEFAULT` to get the most up-to-date weights.\n",
      "  warnings.warn(msg)\n",
      "Downloading: \"https://download.pytorch.org/models/resnet18-f37072fd.pth\" to /root/.cache/torch/hub/checkpoints/resnet18-f37072fd.pth\n",
      "100%|██████████| 44.7M/44.7M [00:00<00:00, 189MB/s]\n"
     ]
    }
   ],
   "source": [
    "lr = 1.1221703972084995e-05\n",
    "dropout_rate = 0.11\n",
    "use_batchnorm = False\n",
    "batch_size = 256\n",
    "num_epochs = 10\n",
    "\n",
    "# Model training setup\n",
    "device = torch.device('cuda' if torch.cuda.is_available() else 'cpu')\n",
    "model = PetAdoptionModel(dropout_rate, use_batchnorm).to(device)\n",
    "\n",
    "optimizer = optim.Adam(model.parameters(), lr=lr)\n",
    "criterion = nn.CrossEntropyLoss()"
   ]
  },
  {
   "cell_type": "code",
   "execution_count": 18,
   "id": "6078387b",
   "metadata": {
    "execution": {
     "iopub.execute_input": "2024-10-21T05:41:42.177291Z",
     "iopub.status.busy": "2024-10-21T05:41:42.176567Z",
     "iopub.status.idle": "2024-10-21T06:18:06.177423Z",
     "shell.execute_reply": "2024-10-21T06:18:06.176361Z"
    },
    "papermill": {
     "duration": 2184.021598,
     "end_time": "2024-10-21T06:18:06.188915",
     "exception": false,
     "start_time": "2024-10-21T05:41:42.167317",
     "status": "completed"
    },
    "tags": []
   },
   "outputs": [
    {
     "name": "stdout",
     "output_type": "stream",
     "text": [
      "Epoch [1/10], Loss: 1.640666010903149\n",
      "Epoch [2/10], Loss: 1.5169765978324703\n",
      "Epoch [3/10], Loss: 1.4382300318741217\n",
      "Epoch [4/10], Loss: 1.3755112392146414\n",
      "Epoch [5/10], Loss: 1.31824365767037\n",
      "Epoch [6/10], Loss: 1.2668603804053329\n",
      "Epoch [7/10], Loss: 1.2138957628389684\n",
      "Epoch [8/10], Loss: 1.1602199891718423\n",
      "Epoch [9/10], Loss: 1.0981786629048789\n",
      "Epoch [10/10], Loss: 1.035968443242515\n"
     ]
    }
   ],
   "source": [
    "# Training loop\n",
    "model.train()\n",
    "\n",
    "for epoch in range(num_epochs):\n",
    "    running_loss = 0.0\n",
    "    for images, descriptions, labels in train_loader:\n",
    "        images, labels = images.to(device), labels.to(device)\n",
    "\n",
    "        optimizer.zero_grad()\n",
    "        outputs = model(images)\n",
    "        loss = criterion(outputs, labels)\n",
    "        loss.backward()\n",
    "        optimizer.step()\n",
    "\n",
    "        running_loss += loss.item()\n",
    "    print(f\"Epoch [{epoch+1}/{num_epochs}], Loss: {running_loss/len(train_loader)}\")"
   ]
  },
  {
   "cell_type": "code",
   "execution_count": 19,
   "id": "8d0a817f",
   "metadata": {
    "execution": {
     "iopub.execute_input": "2024-10-21T06:18:06.206948Z",
     "iopub.status.busy": "2024-10-21T06:18:06.206239Z",
     "iopub.status.idle": "2024-10-21T06:19:07.191780Z",
     "shell.execute_reply": "2024-10-21T06:19:07.190730Z"
    },
    "papermill": {
     "duration": 60.997288,
     "end_time": "2024-10-21T06:19:07.194289",
     "exception": false,
     "start_time": "2024-10-21T06:18:06.197001",
     "status": "completed"
    },
    "tags": []
   },
   "outputs": [],
   "source": [
    "model.eval()\n",
    "\n",
    "val_preds = []\n",
    "val_labels = []\n",
    "\n",
    "with torch.no_grad():\n",
    "    for images, descriptions, labels in val_loader:\n",
    "        images = images.to(device)\n",
    "        outputs = model(images)\n",
    "        _, preds = torch.max(outputs, 1)\n",
    "        val_preds.extend(preds.cpu().numpy())\n",
    "        val_labels.extend(labels.numpy())"
   ]
  },
  {
   "cell_type": "code",
   "execution_count": 20,
   "id": "38579632",
   "metadata": {
    "execution": {
     "iopub.execute_input": "2024-10-21T06:19:07.214458Z",
     "iopub.status.busy": "2024-10-21T06:19:07.213646Z",
     "iopub.status.idle": "2024-10-21T06:19:07.222028Z",
     "shell.execute_reply": "2024-10-21T06:19:07.221128Z"
    },
    "papermill": {
     "duration": 0.020006,
     "end_time": "2024-10-21T06:19:07.224260",
     "exception": false,
     "start_time": "2024-10-21T06:19:07.204254",
     "status": "completed"
    },
    "tags": []
   },
   "outputs": [
    {
     "name": "stdout",
     "output_type": "stream",
     "text": [
      "Validation Quadratic Weighted Kappa: 0.4132\n"
     ]
    }
   ],
   "source": [
    "kappa_score = cohen_kappa_score(val_labels, val_preds, weights='quadratic')\n",
    "print(f'Validation Quadratic Weighted Kappa: {kappa_score:.4f}')"
   ]
  },
  {
   "cell_type": "code",
   "execution_count": 21,
   "id": "6ac98a76",
   "metadata": {
    "execution": {
     "iopub.execute_input": "2024-10-21T06:19:07.241587Z",
     "iopub.status.busy": "2024-10-21T06:19:07.241249Z",
     "iopub.status.idle": "2024-10-21T06:19:16.961661Z",
     "shell.execute_reply": "2024-10-21T06:19:16.960547Z"
    },
    "papermill": {
     "duration": 9.731886,
     "end_time": "2024-10-21T06:19:16.964223",
     "exception": false,
     "start_time": "2024-10-21T06:19:07.232337",
     "status": "completed"
    },
    "tags": []
   },
   "outputs": [],
   "source": [
    "test_df = pd.read_csv('/kaggle/input/deep-learning-for-computer-vision-and-nlp-2024-10/test.csv')\n",
    "test_df['des_normalized'] = test_df['Description'].apply(normalize_text)\n",
    "\n",
    "test_dataset = PetAdoptionDataset(test_df, image_dir=image_dir_test, transform=transform, is_test=True)\n",
    "test_loader = DataLoader(test_dataset, batch_size=128, shuffle=False)"
   ]
  },
  {
   "cell_type": "code",
   "execution_count": 22,
   "id": "b8ea5e40",
   "metadata": {
    "execution": {
     "iopub.execute_input": "2024-10-21T06:19:16.981762Z",
     "iopub.status.busy": "2024-10-21T06:19:16.981447Z",
     "iopub.status.idle": "2024-10-21T06:20:02.367926Z",
     "shell.execute_reply": "2024-10-21T06:20:02.366963Z"
    },
    "papermill": {
     "duration": 45.397828,
     "end_time": "2024-10-21T06:20:02.370300",
     "exception": false,
     "start_time": "2024-10-21T06:19:16.972472",
     "status": "completed"
    },
    "tags": []
   },
   "outputs": [],
   "source": [
    "predictions = []\n",
    "\n",
    "with torch.no_grad():\n",
    "    model.eval()\n",
    "    for images, descriptions in test_loader:  \n",
    "        images = images.to(device)\n",
    "        outputs = model(images)\n",
    "        _, preds = torch.max(outputs, 1)\n",
    "        predictions.extend(preds.cpu().numpy())"
   ]
  },
  {
   "cell_type": "code",
   "execution_count": 23,
   "id": "a3067d89",
   "metadata": {
    "execution": {
     "iopub.execute_input": "2024-10-21T06:20:02.388915Z",
     "iopub.status.busy": "2024-10-21T06:20:02.388507Z",
     "iopub.status.idle": "2024-10-21T06:20:02.407670Z",
     "shell.execute_reply": "2024-10-21T06:20:02.406793Z"
    },
    "papermill": {
     "duration": 0.030776,
     "end_time": "2024-10-21T06:20:02.409839",
     "exception": false,
     "start_time": "2024-10-21T06:20:02.379063",
     "status": "completed"
    },
    "tags": []
   },
   "outputs": [],
   "source": [
    "submission = pd.DataFrame({\n",
    "    'PetID': test_df['PetID'].astype(str),\n",
    "    'AdoptionSpeed': predictions\n",
    "})\n",
    "\n",
    "submission.to_csv(os.path.join('/kaggle/working', 'submission.csv'), index=False)"
   ]
  }
 ],
 "metadata": {
  "kaggle": {
   "accelerator": "gpu",
   "dataSources": [
    {
     "databundleVersionId": 9778966,
     "sourceId": 86259,
     "sourceType": "competition"
    }
   ],
   "dockerImageVersionId": 30787,
   "isGpuEnabled": true,
   "isInternetEnabled": true,
   "language": "python",
   "sourceType": "notebook"
  },
  "kernelspec": {
   "display_name": "Python 3",
   "language": "python",
   "name": "python3"
  },
  "language_info": {
   "codemirror_mode": {
    "name": "ipython",
    "version": 3
   },
   "file_extension": ".py",
   "mimetype": "text/x-python",
   "name": "python",
   "nbconvert_exporter": "python",
   "pygments_lexer": "ipython3",
   "version": "3.10.14"
  },
  "papermill": {
   "default_parameters": {},
   "duration": 2351.537516,
   "end_time": "2024-10-21T06:20:05.438079",
   "environment_variables": {},
   "exception": null,
   "input_path": "__notebook__.ipynb",
   "output_path": "__notebook__.ipynb",
   "parameters": {},
   "start_time": "2024-10-21T05:40:53.900563",
   "version": "2.6.0"
  }
 },
 "nbformat": 4,
 "nbformat_minor": 5
}
